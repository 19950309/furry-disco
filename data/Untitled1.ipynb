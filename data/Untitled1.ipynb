{
 "cells": [
  {
   "cell_type": "code",
   "execution_count": 1,
   "metadata": {},
   "outputs": [
    {
     "name": "stdout",
     "output_type": "stream",
     "text": [
      "Untitled.ipynb   Untitled1.ipynb  addresses.csv    biostats.csv\r\n"
     ]
    }
   ],
   "source": [
    "ls"
   ]
  },
  {
   "cell_type": "code",
   "execution_count": 2,
   "metadata": {},
   "outputs": [],
   "source": [
    "import csv"
   ]
  },
  {
   "cell_type": "code",
   "execution_count": 20,
   "metadata": {},
   "outputs": [
    {
     "name": "stdout",
     "output_type": "stream",
     "text": [
      "Alex M 41\n",
      "Bert M 42\n",
      "Carl M 32\n",
      "Dave M 39\n",
      "Elly F 30\n",
      "Fran F 33\n",
      "Gwen F 26\n",
      "Hank M 30\n",
      "Ivan M 53\n",
      "Jake M 32\n",
      "Kate F 47\n",
      "Luke M 34\n",
      "Myra F 23\n",
      "Neil M 36\n",
      "Omar M 38\n",
      "Page F 31\n",
      "Quin M 29\n",
      "Ruth F 28\n"
     ]
    }
   ],
   "source": [
    "with open('biostats.csv') as biofile:\n",
    "    reader = csv.DictReader(biofile,skipinitialspace=True)\n",
    "    for row in reader:\n",
    "        print(row['Name'],row['Sex'],int(row['Age']))"
   ]
  },
  {
   "cell_type": "code",
   "execution_count": 34,
   "metadata": {},
   "outputs": [],
   "source": [
    "beatles=[{'first_name':'John','last_name':'Lennon','instrument':'guitar'},{'first_name': 'Ringo', 'last_name': 'Starr'}\n",
    "]"
   ]
  },
  {
   "cell_type": "code",
   "execution_count": 35,
   "metadata": {},
   "outputs": [],
   "source": [
    "import csv\n",
    "\n",
    "with open('beatles.csv', 'w') as csvfile:\n",
    "    writer = csv.DictWriter(csvfile, fieldnames=beatles[0].keys())\n",
    "    writer.writeheader()\n",
    "    for beatle in beatles:\n",
    "        writer.writerow(beatle)\n",
    "\n",
    "\n"
   ]
  },
  {
   "cell_type": "code",
   "execution_count": null,
   "metadata": {},
   "outputs": [],
   "source": []
  },
  {
   "cell_type": "code",
   "execution_count": null,
   "metadata": {},
   "outputs": [],
   "source": []
  }
 ],
 "metadata": {
  "kernelspec": {
   "display_name": "Python 3",
   "language": "python",
   "name": "python3"
  },
  "language_info": {
   "codemirror_mode": {
    "name": "ipython",
    "version": 3
   },
   "file_extension": ".py",
   "mimetype": "text/x-python",
   "name": "python",
   "nbconvert_exporter": "python",
   "pygments_lexer": "ipython3",
   "version": "3.7.7"
  }
 },
 "nbformat": 4,
 "nbformat_minor": 4
}
